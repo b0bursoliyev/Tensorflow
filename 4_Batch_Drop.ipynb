{
 "cells": [
  {
   "cell_type": "code",
   "execution_count": 25,
   "metadata": {},
   "outputs": [],
   "source": [
    "import tensorflow as tf\n",
    "from tensorflow import keras\n",
    "import numpy as np\n",
    "import matplotlib.pyplot as plt\n",
    "import cv2\n",
    "import glob"
   ]
  },
  {
   "cell_type": "code",
   "execution_count": 26,
   "metadata": {},
   "outputs": [],
   "source": [
    "def datasets(PATH):\n",
    "    labels = ['female','male']\n",
    "    data = []\n",
    "    for i in range(2):\n",
    "        PATH_new = PATH + labels[i] + \"\\\\*\"\n",
    "        print(PATH)\n",
    "        for rasm in glob.glob(PATH_new):\n",
    "            rasm = cv2.imread(rasm)\n",
    "            rasm = cv2.resize(rasm,(96,96))\n",
    "            data.append((rasm,i))\n",
    "    return data"
   ]
  },
  {
   "cell_type": "code",
   "execution_count": 37,
   "metadata": {},
   "outputs": [],
   "source": [
    "train_dir = 'C:/Users/Lucas/Desktop/ML_data/Gender/Train/'\n",
    "test_dir = 'C:/Users/Lucas/Desktop/ML_data/Gender/Test/'"
   ]
  },
  {
   "cell_type": "code",
   "execution_count": 38,
   "metadata": {},
   "outputs": [
    {
     "name": "stdout",
     "output_type": "stream",
     "text": [
      "C:/Users/Lucas/Desktop/ML_data/Gender/Train/\n",
      "C:/Users/Lucas/Desktop/ML_data/Gender/Train/\n",
      "C:/Users/Lucas/Desktop/ML_data/Gender/Test/\n",
      "C:/Users/Lucas/Desktop/ML_data/Gender/Test/\n"
     ]
    }
   ],
   "source": [
    "train_dataset = datasets(train_dir)\n",
    "test_dataset = datasets(test_dir)"
   ]
  },
  {
   "cell_type": "code",
   "execution_count": 39,
   "metadata": {},
   "outputs": [],
   "source": [
    "x_train,y_train = np.array([i[0] for i in train_dataset],dtype=np.uint8),np.array([i[1] for i in train_dataset],dtype=np.uint8)"
   ]
  },
  {
   "cell_type": "code",
   "execution_count": 40,
   "metadata": {},
   "outputs": [
    {
     "name": "stdout",
     "output_type": "stream",
     "text": [
      "(47009, 96, 96, 3)\n",
      "(47009,)\n"
     ]
    }
   ],
   "source": [
    "print(x_train.shape)\n",
    "print(y_train.shape)"
   ]
  },
  {
   "cell_type": "code",
   "execution_count": 41,
   "metadata": {},
   "outputs": [],
   "source": [
    "x_test,y_test = np.array([i[0] for i in test_dataset],dtype=np.uint8),np.array([i[1] for i in test_dataset],dtype=np.uint8)"
   ]
  },
  {
   "cell_type": "code",
   "execution_count": 42,
   "metadata": {},
   "outputs": [
    {
     "name": "stdout",
     "output_type": "stream",
     "text": [
      "(11649, 96, 96, 3)\n",
      "(11649,)\n"
     ]
    }
   ],
   "source": [
    "print(x_test.shape)\n",
    "print(y_test.shape)"
   ]
  },
  {
   "cell_type": "code",
   "execution_count": 43,
   "metadata": {},
   "outputs": [
    {
     "name": "stdout",
     "output_type": "stream",
     "text": [
      "----TRAIN dataset----\n",
      "All people = 47009\n",
      "Women's img = 23243\n",
      "Men's img = 23766\n"
     ]
    }
   ],
   "source": [
    "print(\"----TRAIN dataset----\")\n",
    "print(\"All people =\",len(train_dataset))\n",
    "print(\"Women's img =\",len([i for i in train_dataset if i[1]==0]))\n",
    "print(\"Men's img =\",len([i for i in train_dataset if i[1]==1]))"
   ]
  },
  {
   "cell_type": "code",
   "execution_count": 44,
   "metadata": {},
   "outputs": [
    {
     "name": "stdout",
     "output_type": "stream",
     "text": [
      "----TEST dataset----\n",
      "All people = 11649\n",
      "Women's img = 5841\n",
      "Men's img = 5808\n"
     ]
    }
   ],
   "source": [
    "print(\"----TEST dataset----\")\n",
    "print(\"All people =\",len(test_dataset))\n",
    "print(\"Women's img =\",len([i for i in test_dataset if i[1]==0]))\n",
    "print(\"Men's img =\",len([i for i in test_dataset if i[1]==1]))"
   ]
  },
  {
   "cell_type": "code",
   "execution_count": 45,
   "metadata": {},
   "outputs": [],
   "source": [
    "model = keras.Sequential([\n",
    "    keras.layers.Conv2D(32,(3,3),input_shape=(96,96,3),activation='relu'),\n",
    "    keras.layers.BatchNormalization(),\n",
    "    keras.layers.MaxPooling2D((2,2)),\n",
    "    keras.layers.Dropout(0.25),\n",
    "\n",
    "    keras.layers.Conv2D(64,(3,3),activation='relu'),\n",
    "    keras.layers.BatchNormalization(),\n",
    "    keras.layers.MaxPooling2D((2,2)),\n",
    "    keras.layers.Dropout(0.25),\n",
    "\n",
    "    keras.layers.Conv2D(128,(3,3),activation='relu'),\n",
    "    keras.layers.BatchNormalization(),\n",
    "    keras.layers.MaxPooling2D((2,2)),\n",
    "    keras.layers.Dropout(0.2),\n",
    "\n",
    "    keras.layers.Flatten(),\n",
    "    keras.layers.Dense(64,activation='relu'),\n",
    "    keras.layers.BatchNormalization(),\n",
    "    keras.layers.Dropout(0.5),\n",
    "\n",
    "    keras.layers.Dense(32,activation='relu'),\n",
    "    keras.layers.BatchNormalization(),\n",
    "    keras.layers.Dropout(0.25),\n",
    "\n",
    "    keras.layers.Dense(1,activation='sigmoid')\n",
    "])"
   ]
  },
  {
   "cell_type": "code",
   "execution_count": 47,
   "metadata": {},
   "outputs": [
    {
     "name": "stdout",
     "output_type": "stream",
     "text": [
      "Epoch 1/3\n",
      "1470/1470 [==============================] - 543s 367ms/step - loss: 0.2235 - accuracy: 0.9134\n",
      "Epoch 2/3\n",
      "1470/1470 [==============================] - 1151s 783ms/step - loss: 0.1697 - accuracy: 0.9380\n",
      "Epoch 3/3\n",
      "1470/1470 [==============================] - 440s 299ms/step - loss: 0.1506 - accuracy: 0.9459\n"
     ]
    },
    {
     "data": {
      "text/plain": [
       "<keras.src.callbacks.History at 0x2196d621950>"
      ]
     },
     "execution_count": 47,
     "metadata": {},
     "output_type": "execute_result"
    }
   ],
   "source": [
    "opt = keras.optimizers.Adam(learning_rate = 0.001)\n",
    "model.compile(optimizer = opt,loss='binary_crossentropy',metrics=['accuracy'])\n",
    "model.fit(x_train,y_train,epochs=3)"
   ]
  },
  {
   "cell_type": "code",
   "execution_count": 48,
   "metadata": {},
   "outputs": [
    {
     "name": "stdout",
     "output_type": "stream",
     "text": [
      "365/365 [==============================] - 19s 51ms/step - loss: 0.1131 - accuracy: 0.9604\n"
     ]
    },
    {
     "data": {
      "text/plain": [
       "[0.1130865290760994, 0.9604257941246033]"
      ]
     },
     "execution_count": 48,
     "metadata": {},
     "output_type": "execute_result"
    }
   ],
   "source": [
    "model.evaluate(x_test,y_test)"
   ]
  },
  {
   "cell_type": "code",
   "execution_count": 49,
   "metadata": {},
   "outputs": [
    {
     "name": "stdout",
     "output_type": "stream",
     "text": [
      "1/1 [==============================] - 0s 183ms/step\n",
      "[[0.99662745]]\n"
     ]
    },
    {
     "data": {
      "text/plain": [
       "<matplotlib.image.AxesImage at 0x21993089150>"
      ]
     },
     "execution_count": 49,
     "metadata": {},
     "output_type": "execute_result"
    },
    {
     "data": {
      "image/png": "[encoded data removed]",
      "text/plain": [
       "<Figure size 640x480 with 1 Axes>"
      ]
     },
     "metadata": {},
     "output_type": "display_data"
    }
   ],
   "source": [
    "i = 8050\n",
    "rasm = np.expand_dims(x_test[i],0)\n",
    "print(model.predict(rasm))\n",
    "plt.imshow(x_test[i])"
   ]
  }
 ],
 "metadata": {
  "kernelspec": {
   "display_name": "Python 3",
   "language": "python",
   "name": "python3"
  },
  "language_info": {
   "codemirror_mode": {
    "name": "ipython",
    "version": 3
   },
   "file_extension": ".py",
   "mimetype": "text/x-python",
   "name": "python",
   "nbconvert_exporter": "python",
   "pygments_lexer": "ipython3",
   "version": "3.11.4"
  },
  "orig_nbformat": 4
 },
 "nbformat": 4,
 "nbformat_minor": 2
}
