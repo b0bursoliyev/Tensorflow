{
 "cells": [
  {
   "cell_type": "code",
   "execution_count": 2,
   "metadata": {
    "_cell_guid": "b1076dfc-b9ad-4769-8c92-a6c4dae69d19",
    "_uuid": "8f2839f25d086af736a60e9eeb907d3b93b6e0e5",
    "execution": {
     "iopub.execute_input": "2025-01-19T18:17:14.704096Z",
     "iopub.status.busy": "2025-01-19T18:17:14.703807Z",
     "iopub.status.idle": "2025-01-19T18:17:35.564891Z",
     "shell.execute_reply": "2025-01-19T18:17:35.563900Z",
     "shell.execute_reply.started": "2025-01-19T18:17:14.704077Z"
    },
    "trusted": true
   },
   "outputs": [],
   "source": [
    "!pip install -U -q evaluate transformers datasets>=2.14.5 accelerate>=0.27 mlflow 2>/dev/null "
   ]
  },
  {
   "cell_type": "code",
   "execution_count": 3,
   "metadata": {
    "execution": {
     "iopub.execute_input": "2025-01-19T18:17:35.566207Z",
     "iopub.status.busy": "2025-01-19T18:17:35.565965Z",
     "iopub.status.idle": "2025-01-19T18:18:07.123870Z",
     "shell.execute_reply": "2025-01-19T18:18:07.123151Z",
     "shell.execute_reply.started": "2025-01-19T18:17:35.566176Z"
    },
    "trusted": true
   },
   "outputs": [],
   "source": [
    "import warnings  # Import the 'warnings' module for handling warnings\n",
    "warnings.filterwarnings(\"ignore\")  # Ignore warnings during execution \n",
    "\n",
    "import gc  # Import the 'gc' module for garbage collection\n",
    "import numpy as np  # Import NumPy for numerical operations\n",
    "import pandas as pd  # Import Pandas for data manipulation\n",
    "import itertools  # Import 'itertools' for iterators and looping\n",
    "from collections import Counter  # Import 'Counter' for counting elements\n",
    "import matplotlib.pyplot as plt  # Import Matplotlib for data visualization\n",
    "from sklearn.metrics import (  # Import various metrics from scikit-learn\n",
    "    accuracy_score,  # For calculating accuracy\n",
    "    roc_auc_score,  # For ROC AUC score\n",
    "    confusion_matrix,  # For confusion matrix\n",
    "    classification_report,  # For classification report\n",
    "    f1_score,  # For F1 score\n",
    "    mean_squared_error,\n",
    "    mean_absolute_error,\n",
    "    r2_score,\n",
    "    # root_mean_squared_error,\n",
    ")\n",
    "# Import custom modules and classes\n",
    "from imblearn.over_sampling import RandomOverSampler # import RandomOverSampler\n",
    "import accelerate # Import the 'accelerate' module\n",
    "import evaluate  # Import the 'evaluate' module\n",
    "from datasets import Dataset, Image, ClassLabel  # Import custom 'Dataset', 'ClassLabel', and 'Image' classes\n",
    "from transformers import (  # Import various modules from the Transformers library\n",
    "    TrainingArguments,  # For training arguments\n",
    "    Trainer,  # For model training\n",
    "    ViTImageProcessor,  # For processing image data with ViT models\n",
    "    ViTForImageClassification,  # ViT model for image classification\n",
    "    DefaultDataCollator  # For collating data in the default way\n",
    ")\n",
    "import torch  # Import PyTorch for deep learning\n",
    "from torch.utils.data import DataLoader  # For creating data loaders\n",
    "from torchvision.transforms import (  # Import image transformation functions\n",
    "    CenterCrop,  # Center crop an image\n",
    "    Compose,  # Compose multiple image transformations\n",
    "    Normalize,  # Normalize image pixel values\n",
    "    RandomRotation,  # Apply random rotation to images\n",
    "    RandomResizedCrop,  # Crop and resize images randomly\n",
    "    RandomHorizontalFlip,  # Apply random horizontal flip\n",
    "    RandomAdjustSharpness,  # Adjust sharpness randomly\n",
    "    Resize,  # Resize images\n",
    "    ToTensor  # Convert images to PyTorch tensors\n",
    ")"
   ]
  },
  {
   "cell_type": "code",
   "execution_count": 4,
   "metadata": {
    "execution": {
     "iopub.execute_input": "2025-01-19T18:18:07.125746Z",
     "iopub.status.busy": "2025-01-19T18:18:07.125168Z",
     "iopub.status.idle": "2025-01-19T18:18:07.373183Z",
     "shell.execute_reply": "2025-01-19T18:18:07.372470Z",
     "shell.execute_reply.started": "2025-01-19T18:18:07.125705Z"
    },
    "trusted": true
   },
   "outputs": [],
   "source": [
    "# Import the necessary module from the Python Imaging Library (PIL).\n",
    "from PIL import ImageFile\n",
    "import matplotlib.pyplot as plt\n",
    "import seaborn as sns\n",
    "# Enable the option to load truncated images.\n",
    "# This setting allows the PIL library to attempt loading images even if they are corrupted or incomplete.\n",
    "ImageFile.LOAD_TRUNCATED_IMAGES = True"
   ]
  },
  {
   "cell_type": "code",
   "execution_count": 5,
   "metadata": {
    "execution": {
     "iopub.execute_input": "2025-01-19T18:18:07.374638Z",
     "iopub.status.busy": "2025-01-19T18:18:07.374213Z",
     "iopub.status.idle": "2025-01-19T18:19:54.750097Z",
     "shell.execute_reply": "2025-01-19T18:19:54.749318Z",
     "shell.execute_reply.started": "2025-01-19T18:18:07.374614Z"
    },
    "trusted": true
   },
   "outputs": [
    {
     "name": "stderr",
     "output_type": "stream",
     "text": [
      "100%|██████████| 23708/23708 [01:44<00:00, 227.10it/s]"
     ]
    },
    {
     "name": "stdout",
     "output_type": "stream",
     "text": [
      "23708 23708\n",
      "(23708, 2)\n"
     ]
    },
    {
     "name": "stderr",
     "output_type": "stream",
     "text": [
      "\n"
     ]
    }
   ],
   "source": [
    "# use https://huggingface.co/docs/datasets/image_load for reference\n",
    "\n",
    "# Import necessary libraries\n",
    "image_dict = {}\n",
    "\n",
    "# Define the list of file names\n",
    "from pathlib import Path\n",
    "from tqdm import tqdm\n",
    "import os\n",
    "# Initialize empty lists to store file names and labels\n",
    "file_names = []\n",
    "labels = []\n",
    "\n",
    "label_dict = {\n",
    "    '1': 1, '2': 2, '3': 3, '4': 4, '5': 5, '6': 6, '7': 7, '8': 8, \n",
    "    '9': 9, '10': 10, '11': 11, '12': 12, '13': 13, '14': 14, '15': 15, \n",
    "    '16': 16, '17': 17, '18': 18, '19': 19, '20': 20, '21': 21, '22': 22, \n",
    "    '23': 23, '24': 24, '25': 25, '26': 26, '27': 27, '28': 28, '29': 29, \n",
    "    '30': 30, '31': 31, '32': 32, '33': 33, '34': 34, '35': 35, '36': 36, \n",
    "    '37': 37, '38': 38, '39': 39, '40': 40, '41': 41, '42': 42, '43': 43, \n",
    "    '44': 44, '45': 45, '46': 46, '47': 47, '48': 48, '49': 49, '50': 50, \n",
    "    '51': 51, '52': 52, '53': 53, '54': 54, '55': 55, '56': 56, '57': 57, \n",
    "    '58': 58, '59': 59, '60': 60, '61': 61, '62': 62, '63': 63, '64': 64, \n",
    "    '65': 65, '66': 66, '67': 67, '68': 68, '69': 69, '70': 70, '71': 70, \n",
    "    '72': 70, '73': 70, '74': 70, '75': 75, '76': 75, '77': 75, '78': 75, \n",
    "    '79': 75, '80': 80, '81': 80, '82': 80, '83': 80, '84': 80, '85': 80, \n",
    "    '86': 80, '87': 80, '88': 80, '89': 80, '90': 90, '91': 90, '92': 90, \n",
    "    '93': 90, '94': 90, '95': 90, '96': 90, '97': 90, '98': 90 ,'99': 90, '100': 90\n",
    "}\n",
    "\n",
    "# Iterate through all image files in the specified directory\n",
    "# for file in tqdm(sorted(Path('/kaggle/input/b3fd-simplified-structure/data/B3FD_modified/'))):\n",
    "#     label = str(file).split('_')[0]  # Extract the label from the file path\n",
    "#     labels.append(label_dict[label])  # Add the label to the list\n",
    "#     file_names.append(str(file))  # Add the file path to the list\n",
    "\n",
    "directory = Path('/kaggle/input/utkface-new/UTKFace/')\n",
    "for file in tqdm(sorted(directory.iterdir())):  # Use .iterdir() to get the files\n",
    "    if file.is_file():  # Check if the path is a file (not a directory)\n",
    "        label = str(file.name).split('_')[0]  # Extract the label from the file name\n",
    "        labels.append(label_dict.get(label, -1))  # Use .get() to handle missing labels\n",
    "        file_names.append(str(file))\n",
    "\n",
    "# Print the total number of file names and labels\n",
    "print(len(file_names), len(labels)) \n",
    "\n",
    "# Create a pandas dataframe from the collected file names and labels\n",
    "df = pd.DataFrame.from_dict({\"image\": file_names, \"label\": labels})\n",
    "print(df.shape) "
   ]
  },
  {
   "cell_type": "code",
   "execution_count": 6,
   "metadata": {
    "execution": {
     "iopub.execute_input": "2025-01-19T18:19:54.751044Z",
     "iopub.status.busy": "2025-01-19T18:19:54.750839Z",
     "iopub.status.idle": "2025-01-19T18:19:54.781300Z",
     "shell.execute_reply": "2025-01-19T18:19:54.780649Z",
     "shell.execute_reply.started": "2025-01-19T18:19:54.751026Z"
    },
    "trusted": true
   },
   "outputs": [
    {
     "data": {
      "text/html": [
       "<div>\n",
       "<style scoped>\n",
       "    .dataframe tbody tr th:only-of-type {\n",
       "        vertical-align: middle;\n",
       "    }\n",
       "\n",
       "    .dataframe tbody tr th {\n",
       "        vertical-align: top;\n",
       "    }\n",
       "\n",
       "    .dataframe thead th {\n",
       "        text-align: right;\n",
       "    }\n",
       "</style>\n",
       "<table border=\"1\" class=\"dataframe\">\n",
       "  <thead>\n",
       "    <tr style=\"text-align: right;\">\n",
       "      <th></th>\n",
       "      <th>image</th>\n",
       "      <th>label</th>\n",
       "    </tr>\n",
       "  </thead>\n",
       "  <tbody>\n",
       "    <tr>\n",
       "      <th>0</th>\n",
       "      <td>/kaggle/input/utkface-new/UTKFace/100_0_0_2017...</td>\n",
       "      <td>90</td>\n",
       "    </tr>\n",
       "    <tr>\n",
       "      <th>1</th>\n",
       "      <td>/kaggle/input/utkface-new/UTKFace/100_0_0_2017...</td>\n",
       "      <td>90</td>\n",
       "    </tr>\n",
       "    <tr>\n",
       "      <th>2</th>\n",
       "      <td>/kaggle/input/utkface-new/UTKFace/100_1_0_2017...</td>\n",
       "      <td>90</td>\n",
       "    </tr>\n",
       "    <tr>\n",
       "      <th>3</th>\n",
       "      <td>/kaggle/input/utkface-new/UTKFace/100_1_0_2017...</td>\n",
       "      <td>90</td>\n",
       "    </tr>\n",
       "    <tr>\n",
       "      <th>4</th>\n",
       "      <td>/kaggle/input/utkface-new/UTKFace/100_1_0_2017...</td>\n",
       "      <td>90</td>\n",
       "    </tr>\n",
       "  </tbody>\n",
       "</table>\n",
       "</div>"
      ],
      "text/plain": [
       "                                               image  label\n",
       "0  /kaggle/input/utkface-new/UTKFace/100_0_0_2017...     90\n",
       "1  /kaggle/input/utkface-new/UTKFace/100_0_0_2017...     90\n",
       "2  /kaggle/input/utkface-new/UTKFace/100_1_0_2017...     90\n",
       "3  /kaggle/input/utkface-new/UTKFace/100_1_0_2017...     90\n",
       "4  /kaggle/input/utkface-new/UTKFace/100_1_0_2017...     90"
      ]
     },
     "execution_count": 6,
     "metadata": {},
     "output_type": "execute_result"
    }
   ],
   "source": [
    "df.head() "
   ]
  },
  {
   "cell_type": "code",
   "execution_count": 7,
   "metadata": {
    "execution": {
     "iopub.execute_input": "2025-01-19T18:19:54.782408Z",
     "iopub.status.busy": "2025-01-19T18:19:54.782128Z",
     "iopub.status.idle": "2025-01-19T18:19:55.511269Z",
     "shell.execute_reply": "2025-01-19T18:19:55.510388Z",
     "shell.execute_reply.started": "2025-01-19T18:19:54.782379Z"
    },
    "trusted": true
   },
   "outputs": [
    {
     "data": {
      "image/png": "[encoded data removed]",
      "text/plain": [
       "<Figure size 1600x800 with 1 Axes>"
      ]
     },
     "metadata": {},
     "output_type": "display_data"
    }
   ],
   "source": [
    "plt.figure(figsize=(16, 8))\n",
    "plt.title('Age Distribution on B3FD Dataset') \n",
    "sns.countplot(x='label', data=df, palette='Set1', order=df['label'].value_counts().index)\n",
    "plt.grid('major')\n",
    "plt.xticks(rotation=70)\n",
    "plt.show()"
   ]
  },
  {
   "cell_type": "code",
   "execution_count": 8,
   "metadata": {
    "execution": {
     "iopub.execute_input": "2025-01-19T18:19:55.512701Z",
     "iopub.status.busy": "2025-01-19T18:19:55.512359Z",
     "iopub.status.idle": "2025-01-19T18:19:56.162997Z",
     "shell.execute_reply": "2025-01-19T18:19:56.162172Z",
     "shell.execute_reply.started": "2025-01-19T18:19:55.512665Z"
    },
    "trusted": true
   },
   "outputs": [
    {
     "data": {
      "image/png": "[encoded data removed]",
      "text/plain": [
       "<Figure size 1600x800 with 1 Axes>"
      ]
     },
     "metadata": {},
     "output_type": "display_data"
    }
   ],
   "source": [
    "plt.figure(figsize=(16, 8))\n",
    "plt.title('Age Distribution on B3FD Dataset') \n",
    "sns.countplot(x=df['label'], data=df, palette='Set1', order=df['label'].value_counts().sort_index().index)\n",
    "plt.grid('major')\n",
    "plt.xticks(rotation=70)\n",
    "plt.show()"
   ]
  },
  {
   "cell_type": "code",
   "execution_count": 9,
   "metadata": {
    "execution": {
     "iopub.execute_input": "2025-01-19T18:19:56.165752Z",
     "iopub.status.busy": "2025-01-19T18:19:56.165518Z",
     "iopub.status.idle": "2025-01-19T18:19:56.212241Z",
     "shell.execute_reply": "2025-01-19T18:19:56.211623Z",
     "shell.execute_reply.started": "2025-01-19T18:19:56.165733Z"
    },
    "trusted": true
   },
   "outputs": [],
   "source": [
    "dataset = Dataset.from_pandas(df).cast_column(\"image\", Image()) "
   ]
  },
  {
   "cell_type": "code",
   "execution_count": 10,
   "metadata": {
    "execution": {
     "iopub.execute_input": "2025-01-19T18:19:56.214247Z",
     "iopub.status.busy": "2025-01-19T18:19:56.214015Z",
     "iopub.status.idle": "2025-01-19T18:19:56.220345Z",
     "shell.execute_reply": "2025-01-19T18:19:56.219477Z",
     "shell.execute_reply.started": "2025-01-19T18:19:56.214221Z"
    },
    "trusted": true
   },
   "outputs": [
    {
     "name": "stdout",
     "output_type": "stream",
     "text": [
      "Mapping of IDs to Labels: {0: -1, 1: 1, 2: 2, 3: 3, 4: 4, 5: 5, 6: 6, 7: 7, 8: 8, 9: 9, 10: 10, 11: 11, 12: 12, 13: 13, 14: 14, 15: 15, 16: 16, 17: 17, 18: 18, 19: 19, 20: 20, 21: 21, 22: 22, 23: 23, 24: 24, 25: 25, 26: 26, 27: 27, 28: 28, 29: 29, 30: 30, 31: 31, 32: 32, 33: 33, 34: 34, 35: 35, 36: 36, 37: 37, 38: 38, 39: 39, 40: 40, 41: 41, 42: 42, 43: 43, 44: 44, 45: 45, 46: 46, 47: 47, 48: 48, 49: 49, 50: 50, 51: 51, 52: 52, 53: 53, 54: 54, 55: 55, 56: 56, 57: 57, 58: 58, 59: 59, 60: 60, 61: 61, 62: 62, 63: 63, 64: 64, 65: 65, 66: 66, 67: 67, 68: 68, 69: 69, 70: 70, 71: 75, 72: 80, 73: 90} \n",
      "\n",
      "Mapping of Labels to IDs: {-1: 0, 1: 1, 2: 2, 3: 3, 4: 4, 5: 5, 6: 6, 7: 7, 8: 8, 9: 9, 10: 10, 11: 11, 12: 12, 13: 13, 14: 14, 15: 15, 16: 16, 17: 17, 18: 18, 19: 19, 20: 20, 21: 21, 22: 22, 23: 23, 24: 24, 25: 25, 26: 26, 27: 27, 28: 28, 29: 29, 30: 30, 31: 31, 32: 32, 33: 33, 34: 34, 35: 35, 36: 36, 37: 37, 38: 38, 39: 39, 40: 40, 41: 41, 42: 42, 43: 43, 44: 44, 45: 45, 46: 46, 47: 47, 48: 48, 49: 49, 50: 50, 51: 51, 52: 52, 53: 53, 54: 54, 55: 55, 56: 56, 57: 57, 58: 58, 59: 59, 60: 60, 61: 61, 62: 62, 63: 63, 64: 64, 65: 65, 66: 66, 67: 67, 68: 68, 69: 69, 70: 70, 75: 71, 80: 72, 90: 73}\n"
     ]
    }
   ],
   "source": [
    "# Create a list of unique labels by converting 'labels' to a set and then back to a list\n",
    "labels_list = sorted(list(set(labels)))\n",
    "\n",
    "# Initialize empty dictionaries to map labels to IDs and vice versa\n",
    "label2id, id2label = dict(), dict()\n",
    "\n",
    "# Iterate over the unique labels and assign each label an ID, and vice versa\n",
    "for i, label in enumerate(labels_list):\n",
    "    label2id[label] = i  # Map the label to its corresponding ID\n",
    "    id2label[i] = label  # Map the ID to its corresponding label\n",
    "\n",
    "# Print the resulting dictionaries for reference\n",
    "print(\"Mapping of IDs to Labels:\", id2label, '\\n')\n",
    "print(\"Mapping of Labels to IDs:\", label2id)"
   ]
  },
  {
   "cell_type": "code",
   "execution_count": 11,
   "metadata": {
    "execution": {
     "iopub.execute_input": "2025-01-19T18:19:56.221661Z",
     "iopub.status.busy": "2025-01-19T18:19:56.221354Z",
     "iopub.status.idle": "2025-01-19T18:19:56.366261Z",
     "shell.execute_reply": "2025-01-19T18:19:56.365586Z",
     "shell.execute_reply.started": "2025-01-19T18:19:56.221629Z"
    },
    "trusted": true
   },
   "outputs": [
    {
     "data": {
      "application/vnd.jupyter.widget-view+json": {
       "model_id": "4f16cd74b1bc4e97812048be5531e361",
       "version_major": 2,
       "version_minor": 0
      },
      "text/plain": [
       "Map:   0%|          | 0/23708 [00:00<?, ? examples/s]"
      ]
     },
     "metadata": {},
     "output_type": "display_data"
    },
    {
     "data": {
      "application/vnd.jupyter.widget-view+json": {
       "model_id": "865f431957414995b2a5c7557999000c",
       "version_major": 2,
       "version_minor": 0
      },
      "text/plain": [
       "Casting the dataset:   0%|          | 0/23708 [00:00<?, ? examples/s]"
      ]
     },
     "metadata": {},
     "output_type": "display_data"
    },
    {
     "name": "stdout",
     "output_type": "stream",
     "text": [
      "Dataset({\n",
      "    features: ['image', 'label'],\n",
      "    num_rows: 23708\n",
      "})\n",
      "Dataset({\n",
      "    features: ['image', 'label'],\n",
      "    num_rows: 18966\n",
      "})\n",
      "Dataset({\n",
      "    features: ['image', 'label'],\n",
      "    num_rows: 4742\n",
      "})\n"
     ]
    }
   ],
   "source": [
    "\n",
    "# Creating classlabels to match labels to IDs\n",
    "ClassLabels = ClassLabel(num_classes=len(labels_list), names=labels_list)\n",
    "\n",
    "# Mapping labels to IDs\n",
    "def map_label2id(example):\n",
    "    example['label'] = ClassLabels.str2int(example['label'])\n",
    "    return example\n",
    "\n",
    "dataset = dataset.map(map_label2id, batched=True)\n",
    "\n",
    "# Casting label column to ClassLabel Object\n",
    "dataset = dataset.cast_column('label', ClassLabels)\n",
    "print(dataset)\n",
    "# Splitting the dataset into training and testing sets using an 60-40 split ratio.\n",
    "dataset = dataset.train_test_split(test_size=0.2, shuffle=True, stratify_by_column=\"label\")\n",
    "\n",
    "# Extracting the training data from the split dataset.\n",
    "train_data = dataset['train']\n",
    "print(train_data)\n",
    "\n",
    "# Extracting the testing data from the split dataset.\n",
    "test_data = dataset['test'] \n",
    "print(test_data) "
   ]
  },
  {
   "cell_type": "code",
   "execution_count": 12,
   "metadata": {
    "execution": {
     "iopub.execute_input": "2025-01-19T18:19:56.367380Z",
     "iopub.status.busy": "2025-01-19T18:19:56.367100Z",
     "iopub.status.idle": "2025-01-19T18:19:56.533053Z",
     "shell.execute_reply": "2025-01-19T18:19:56.532233Z",
     "shell.execute_reply.started": "2025-01-19T18:19:56.367347Z"
    },
    "trusted": true
   },
   "outputs": [
    {
     "data": {
      "application/vnd.jupyter.widget-view+json": {
       "model_id": "e39b1139497e4681b15d19fede1336f4",
       "version_major": 2,
       "version_minor": 0
      },
      "text/plain": [
       "preprocessor_config.json:   0%|          | 0.00/160 [00:00<?, ?B/s]"
      ]
     },
     "metadata": {},
     "output_type": "display_data"
    },
    {
     "name": "stdout",
     "output_type": "stream",
     "text": [
      "Size:  224\n"
     ]
    }
   ],
   "source": [
    "# Define the pre-trained ViT model string\n",
    "model_str = \"google/vit-base-patch16-224-in21k\" # 'google/vit-base-patch16-224-in21k'\n",
    "\n",
    "# Create a processor for ViT model input from the pre-trained model\n",
    "processor = ViTImageProcessor.from_pretrained(model_str)\n",
    "\n",
    "# Retrieve the image mean and standard deviation used for normalization\n",
    "image_mean, image_std = processor.image_mean, processor.image_std\n",
    "\n",
    "# Get the size (height) of the ViT model's input images\n",
    "size = processor.size[\"height\"]\n",
    "print(\"Size: \", size)\n",
    "\n",
    "# Define a normalization transformation for the input images\n",
    "normalize = Normalize(mean=image_mean, std=image_std) \n",
    "\n",
    "# Define a set of transformations for training data\n",
    "_train_transforms = Compose(\n",
    "    [\n",
    "        Resize((size, size)),             # Resize images to the ViT model's input size\n",
    "        RandomRotation(90),               # Apply random rotation\n",
    "        RandomAdjustSharpness(2),         # Adjust sharpness randomly\n",
    "        RandomHorizontalFlip(0.5),        # Random horizontal flip\n",
    "        ToTensor(),                       # Convert images to tensors\n",
    "        normalize                         # Normalize images using mean and std\n",
    "    ]\n",
    ")\n",
    "\n",
    "# Define a set of transformations for validation data\n",
    "_val_transforms = Compose(\n",
    "    [\n",
    "        Resize((size, size)),             # Resize images to the ViT model's input size\n",
    "        ToTensor(),                       # Convert images to tensors\n",
    "        normalize                         # Normalize images using mean and std\n",
    "    ]\n",
    ")\n",
    "\n",
    "# Define a function to apply training transformations to a batch of examples\n",
    "def train_transforms(examples):\n",
    "    examples['pixel_values'] = [_train_transforms(image.convert(\"RGB\")) for image in examples['image']]\n",
    "    return examples\n",
    "\n",
    "# Define a function to apply validation transformations to a batch of examples\n",
    "def val_transforms(examples):\n",
    "    examples['pixel_values'] = [_val_transforms(image.convert(\"RGB\")) for image in examples['image']]\n",
    "    return examples "
   ]
  },
  {
   "cell_type": "code",
   "execution_count": 13,
   "metadata": {
    "execution": {
     "iopub.execute_input": "2025-01-19T18:19:56.534254Z",
     "iopub.status.busy": "2025-01-19T18:19:56.534050Z",
     "iopub.status.idle": "2025-01-19T18:19:56.543966Z",
     "shell.execute_reply": "2025-01-19T18:19:56.543138Z",
     "shell.execute_reply.started": "2025-01-19T18:19:56.534236Z"
    },
    "trusted": true
   },
   "outputs": [],
   "source": [
    "# Set the transforms for the training data\n",
    "train_data.set_transform(train_transforms)\n",
    "\n",
    "# Set the transforms for the test/validation data\n",
    "test_data.set_transform(val_transforms)"
   ]
  },
  {
   "cell_type": "code",
   "execution_count": 14,
   "metadata": {
    "execution": {
     "iopub.execute_input": "2025-01-19T18:19:56.544880Z",
     "iopub.status.busy": "2025-01-19T18:19:56.544657Z",
     "iopub.status.idle": "2025-01-19T18:19:56.564551Z",
     "shell.execute_reply": "2025-01-19T18:19:56.563743Z",
     "shell.execute_reply.started": "2025-01-19T18:19:56.544861Z"
    },
    "trusted": true
   },
   "outputs": [],
   "source": [
    "# Define a collate function that prepares batched data for model training.\n",
    "def collate_fn(examples):\n",
    "    # Stack the pixel values from individual examples into a single tensor.\n",
    "    pixel_values = torch.stack([example[\"pixel_values\"] for example in examples])\n",
    "    \n",
    "    # Convert the label strings in examples to corresponding numeric IDs using label2id dictionary.\n",
    "    labels = torch.tensor([example['label'] for example in examples])\n",
    "    \n",
    "    # Return a dictionary containing the batched pixel values and labels.\n",
    "    return {\"pixel_values\": pixel_values, \"labels\": labels}"
   ]
  },
  {
   "cell_type": "code",
   "execution_count": 15,
   "metadata": {
    "execution": {
     "iopub.execute_input": "2025-01-19T18:19:56.565806Z",
     "iopub.status.busy": "2025-01-19T18:19:56.565497Z",
     "iopub.status.idle": "2025-01-19T18:19:59.647470Z",
     "shell.execute_reply": "2025-01-19T18:19:59.646796Z",
     "shell.execute_reply.started": "2025-01-19T18:19:56.565776Z"
    },
    "trusted": true
   },
   "outputs": [
    {
     "data": {
      "application/vnd.jupyter.widget-view+json": {
       "model_id": "d8a85cc468ee4aa3a87ff94e0a845f89",
       "version_major": 2,
       "version_minor": 0
      },
      "text/plain": [
       "config.json:   0%|          | 0.00/502 [00:00<?, ?B/s]"
      ]
     },
     "metadata": {},
     "output_type": "display_data"
    },
    {
     "data": {
      "application/vnd.jupyter.widget-view+json": {
       "model_id": "1719a914c1b0449aa5ccdb740e946518",
       "version_major": 2,
       "version_minor": 0
      },
      "text/plain": [
       "model.safetensors:   0%|          | 0.00/346M [00:00<?, ?B/s]"
      ]
     },
     "metadata": {},
     "output_type": "display_data"
    },
    {
     "name": "stderr",
     "output_type": "stream",
     "text": [
      "Some weights of ViTForImageClassification were not initialized from the model checkpoint at google/vit-base-patch16-224-in21k and are newly initialized: ['classifier.bias', 'classifier.weight']\n",
      "You should probably TRAIN this model on a down-stream task to be able to use it for predictions and inference.\n"
     ]
    },
    {
     "name": "stdout",
     "output_type": "stream",
     "text": [
      "85.855562\n"
     ]
    }
   ],
   "source": [
    "# Create a ViTForImageClassification model from a pretrained checkpoint with a specified number of output labels.\n",
    "model = ViTForImageClassification.from_pretrained(model_str, num_labels=len(labels_list), ignore_mismatched_sizes=True)\n",
    "\n",
    "# Configure the mapping of class labels to their corresponding indices for later reference.\n",
    "model.config.id2label = id2label\n",
    "model.config.label2id = label2id\n",
    "\n",
    "# Calculate and print the number of trainable parameters in millions for the model.\n",
    "print(model.num_parameters(only_trainable=True) / 1e6) "
   ]
  },
  {
   "cell_type": "code",
   "execution_count": 16,
   "metadata": {
    "execution": {
     "iopub.execute_input": "2025-01-19T18:19:59.648594Z",
     "iopub.status.busy": "2025-01-19T18:19:59.648295Z",
     "iopub.status.idle": "2025-01-19T18:19:59.983834Z",
     "shell.execute_reply": "2025-01-19T18:19:59.983091Z",
     "shell.execute_reply.started": "2025-01-19T18:19:59.648562Z"
    },
    "trusted": true
   },
   "outputs": [
    {
     "data": {
      "application/vnd.jupyter.widget-view+json": {
       "model_id": "c995778b97914472818e60624ec095e6",
       "version_major": 2,
       "version_minor": 0
      },
      "text/plain": [
       "Downloading builder script:   0%|          | 0.00/4.20k [00:00<?, ?B/s]"
      ]
     },
     "metadata": {},
     "output_type": "display_data"
    }
   ],
   "source": [
    "\n",
    "accuracy = evaluate.load(\"accuracy\")\n",
    "from sklearn.metrics import r2_score\n",
    "\n",
    "def compute_metrics(eval_pred):\n",
    "    predictions = eval_pred.predictions\n",
    "    label_ids = eval_pred.label_ids\n",
    "\n",
    "    # Ensure predictions are class labels (in case they are logits/probabilities)\n",
    "    predicted_labels = predictions.argmax(axis=-1)  # Adjust axis if necessary\n",
    "\n",
    "    # Check if the shapes match\n",
    "    if predicted_labels.shape != label_ids.shape:\n",
    "        raise ValueError(f\"Shape mismatch: predictions shape {predicted_labels.shape} vs. labels shape {label_ids.shape}\")\n",
    "\n",
    "    # Calculate Accuracy\n",
    "    acc_score = accuracy.compute(predictions=predicted_labels, references=label_ids)[\"accuracy\"]\n",
    "\n",
    "    # Calculate MAE, MSE, RMSE\n",
    "    mae = mean_absolute_error(label_ids, predicted_labels)\n",
    "    mse = mean_squared_error(label_ids, predicted_labels)\n",
    "    rmse = np.sqrt(mse)\n",
    "    r2 = r2_score(label_ids, predicted_labels)\n",
    "\n",
    "\n",
    "    return {\n",
    "        \"accuracy\": acc_score,\n",
    "        \"MAE\": mae,\n",
    "        \"MSE\": mse,\n",
    "        \"RMSE\": rmse,\n",
    "        \"R2\": r2,\n",
    "    }\n"
   ]
  },
  {
   "cell_type": "code",
   "execution_count": 17,
   "metadata": {
    "execution": {
     "iopub.execute_input": "2025-01-19T18:19:59.984905Z",
     "iopub.status.busy": "2025-01-19T18:19:59.984605Z",
     "iopub.status.idle": "2025-01-19T18:20:00.156280Z",
     "shell.execute_reply": "2025-01-19T18:20:00.155624Z",
     "shell.execute_reply.started": "2025-01-19T18:19:59.984868Z"
    },
    "trusted": true
   },
   "outputs": [],
   "source": [
    "# Define the name of the evaluation metric to be used during training and evaluation.\n",
    "metric_name = \"MAE\"\n",
    "\n",
    "# Define the name of the model, which will be used to create a directory for saving model checkpoints and outputs.\n",
    "model_name = \"age_recognition\"\n",
    "\n",
    "# Define the number of training epochs for the model.\n",
    "num_train_epochs = 50\n",
    "\n",
    "# Create an instance of TrainingArguments to configure training settings.\n",
    "args = TrainingArguments(\n",
    "    # Specify the directory where model checkpoints and outputs will be saved.\n",
    "    output_dir=model_name,\n",
    "    \n",
    "    # Specify the directory where training logs will be stored.\n",
    "    logging_dir='./logs',\n",
    "    \n",
    "    # Define the evaluation strategy, which is performed at the end of each epoch.\n",
    "    evaluation_strategy=\"epoch\",\n",
    "    \n",
    "    # Set the learning rate for the optimizer.\n",
    "    learning_rate=1e-7,\n",
    "    do_train = True,\n",
    "    # Define the batch size for training on each device.\n",
    "    per_device_train_batch_size=32,\n",
    "    \n",
    "    # Define the batch size for evaluation on each device.\n",
    "    per_device_eval_batch_size=32,\n",
    "    \n",
    "    # Specify the total number of training epochs.\n",
    "    num_train_epochs=num_train_epochs,\n",
    "    \n",
    "    # Apply weight decay to prevent overfitting.\n",
    "    weight_decay=0.02,\n",
    "    \n",
    "    # Set the number of warm-up steps for the learning rate scheduler.\n",
    "    warmup_steps=50,\n",
    "    \n",
    "    # Disable the removal of unused columns from the dataset.\n",
    "    remove_unused_columns=False,\n",
    "    \n",
    "    # Define the strategy for saving model checkpoints (per epoch in this case).\n",
    "    save_strategy='epoch',\n",
    "    \n",
    "    # Load the best model at the end of training.\n",
    "    load_best_model_at_end=True,\n",
    "    \n",
    "    # Limit the total number of saved checkpoints to save space.\n",
    "    save_total_limit=1,\n",
    "    \n",
    "    # Specify that training progress should not be reported\n",
    "    report_to=\"none\"  # log to none\n",
    ")"
   ]
  },
  {
   "cell_type": "code",
   "execution_count": 18,
   "metadata": {
    "execution": {
     "iopub.execute_input": "2025-01-19T18:20:00.157374Z",
     "iopub.status.busy": "2025-01-19T18:20:00.157066Z",
     "iopub.status.idle": "2025-01-19T18:20:00.505146Z",
     "shell.execute_reply": "2025-01-19T18:20:00.504447Z",
     "shell.execute_reply.started": "2025-01-19T18:20:00.157342Z"
    },
    "trusted": true
   },
   "outputs": [],
   "source": [
    "trainer = Trainer(\n",
    "    model,\n",
    "    args,\n",
    "    train_dataset=train_data,\n",
    "    eval_dataset=test_data,\n",
    "    data_collator=collate_fn,\n",
    "    # compute_loss_func=MSELoss(),\n",
    "    compute_metrics=compute_metrics,\n",
    "    tokenizer=processor,\n",
    ")"
   ]
  },
  {
   "cell_type": "code",
   "execution_count": 19,
   "metadata": {
    "execution": {
     "iopub.execute_input": "2025-01-19T18:20:00.506231Z",
     "iopub.status.busy": "2025-01-19T18:20:00.505939Z",
     "iopub.status.idle": "2025-01-19T18:21:35.451388Z",
     "shell.execute_reply": "2025-01-19T18:21:35.450649Z",
     "shell.execute_reply.started": "2025-01-19T18:20:00.506201Z"
    },
    "trusted": true
   },
   "outputs": [
    {
     "data": {
      "text/html": [
       "\n",
       "    <div>\n",
       "      \n",
       "      <progress value='150' max='75' style='width:300px; height:20px; vertical-align: middle;'></progress>\n",
       "      [75/75 12:51]\n",
       "    </div>\n",
       "    "
      ],
      "text/plain": [
       "<IPython.core.display.HTML object>"
      ]
     },
     "metadata": {},
     "output_type": "display_data"
    },
    {
     "data": {
      "text/plain": [
       "{'eval_loss': 4.309401035308838,\n",
       " 'eval_accuracy': 0.010965837199493884,\n",
       " 'eval_MAE': 26.628637705609446,\n",
       " 'eval_MSE': 1059.3220160269927,\n",
       " 'eval_RMSE': 32.54722747066165,\n",
       " 'eval_R2': -2.0362902612446208,\n",
       " 'eval_runtime': 94.9391,\n",
       " 'eval_samples_per_second': 49.948,\n",
       " 'eval_steps_per_second': 0.79}"
      ]
     },
     "execution_count": 19,
     "metadata": {},
     "output_type": "execute_result"
    }
   ],
   "source": [
    "trainer.evaluate() "
   ]
  },
  {
   "cell_type": "code",
   "execution_count": 20,
   "metadata": {
    "execution": {
     "iopub.execute_input": "2025-01-19T18:21:35.452560Z",
     "iopub.status.busy": "2025-01-19T18:21:35.452247Z",
     "iopub.status.idle": "2025-01-20T01:39:58.637927Z",
     "shell.execute_reply": "2025-01-20T01:39:58.637178Z",
     "shell.execute_reply.started": "2025-01-19T18:21:35.452527Z"
    },
    "trusted": true
   },
   "outputs": [
    {
     "data": {
      "text/html": [
       "\n",
       "    <div>\n",
       "      \n",
       "      <progress value='14850' max='14850' style='width:300px; height:20px; vertical-align: middle;'></progress>\n",
       "      [14850/14850 7:18:19, Epoch 50/50]\n",
       "    </div>\n",
       "    <table border=\"1\" class=\"dataframe\">\n",
       "  <thead>\n",
       " <tr style=\"text-align: left;\">\n",
       "      <th>Epoch</th>\n",
       "      <th>Training Loss</th>\n",
       "      <th>Validation Loss</th>\n",
       "      <th>Accuracy</th>\n",
       "      <th>Mae</th>\n",
       "      <th>Mse</th>\n",
       "      <th>Rmse</th>\n",
       "      <th>R2</th>\n",
       "    </tr>\n",
       "  </thead>\n",
       "  <tbody>\n",
       "    <tr>\n",
       "      <td>1</td>\n",
       "      <td>No log</td>\n",
       "      <td>4.306015</td>\n",
       "      <td>0.013286</td>\n",
       "      <td>26.549135</td>\n",
       "      <td>1054.368621</td>\n",
       "      <td>32.471043</td>\n",
       "      <td>-2.022093</td>\n",
       "    </tr>\n",
       "    <tr>\n",
       "      <td>2</td>\n",
       "      <td>4.305300</td>\n",
       "      <td>4.302349</td>\n",
       "      <td>0.015394</td>\n",
       "      <td>26.465415</td>\n",
       "      <td>1046.501265</td>\n",
       "      <td>32.349672</td>\n",
       "      <td>-1.999543</td>\n",
       "    </tr>\n",
       "    <tr>\n",
       "      <td>3</td>\n",
       "      <td>4.305300</td>\n",
       "      <td>4.298715</td>\n",
       "      <td>0.019190</td>\n",
       "      <td>26.142767</td>\n",
       "      <td>1026.213201</td>\n",
       "      <td>32.034563</td>\n",
       "      <td>-1.941392</td>\n",
       "    </tr>\n",
       "    <tr>\n",
       "      <td>4</td>\n",
       "      <td>4.291800</td>\n",
       "      <td>4.295110</td>\n",
       "      <td>0.020666</td>\n",
       "      <td>26.009911</td>\n",
       "      <td>1017.081611</td>\n",
       "      <td>31.891717</td>\n",
       "      <td>-1.915218</td>\n",
       "    </tr>\n",
       "    <tr>\n",
       "      <td>5</td>\n",
       "      <td>4.291800</td>\n",
       "      <td>4.291501</td>\n",
       "      <td>0.023197</td>\n",
       "      <td>25.716575</td>\n",
       "      <td>999.424715</td>\n",
       "      <td>31.613679</td>\n",
       "      <td>-1.864609</td>\n",
       "    </tr>\n",
       "    <tr>\n",
       "      <td>6</td>\n",
       "      <td>4.279500</td>\n",
       "      <td>4.287942</td>\n",
       "      <td>0.028047</td>\n",
       "      <td>25.385280</td>\n",
       "      <td>975.807465</td>\n",
       "      <td>31.237917</td>\n",
       "      <td>-1.796916</td>\n",
       "    </tr>\n",
       "    <tr>\n",
       "      <td>7</td>\n",
       "      <td>4.265300</td>\n",
       "      <td>4.284318</td>\n",
       "      <td>0.032265</td>\n",
       "      <td>25.042176</td>\n",
       "      <td>955.288486</td>\n",
       "      <td>30.907742</td>\n",
       "      <td>-1.738103</td>\n",
       "    </tr>\n",
       "    <tr>\n",
       "      <td>8</td>\n",
       "      <td>4.265300</td>\n",
       "      <td>4.280735</td>\n",
       "      <td>0.037959</td>\n",
       "      <td>24.597638</td>\n",
       "      <td>934.296078</td>\n",
       "      <td>30.566257</td>\n",
       "      <td>-1.677934</td>\n",
       "    </tr>\n",
       "    <tr>\n",
       "      <td>9</td>\n",
       "      <td>4.251200</td>\n",
       "      <td>4.277152</td>\n",
       "      <td>0.044496</td>\n",
       "      <td>23.849642</td>\n",
       "      <td>895.639182</td>\n",
       "      <td>29.927231</td>\n",
       "      <td>-1.567133</td>\n",
       "    </tr>\n",
       "    <tr>\n",
       "      <td>10</td>\n",
       "      <td>4.251200</td>\n",
       "      <td>4.273633</td>\n",
       "      <td>0.050190</td>\n",
       "      <td>23.322649</td>\n",
       "      <td>868.419654</td>\n",
       "      <td>29.468961</td>\n",
       "      <td>-1.489115</td>\n",
       "    </tr>\n",
       "    <tr>\n",
       "      <td>11</td>\n",
       "      <td>4.234700</td>\n",
       "      <td>4.270145</td>\n",
       "      <td>0.055251</td>\n",
       "      <td>22.765500</td>\n",
       "      <td>841.794601</td>\n",
       "      <td>29.013697</td>\n",
       "      <td>-1.412801</td>\n",
       "    </tr>\n",
       "    <tr>\n",
       "      <td>12</td>\n",
       "      <td>4.218400</td>\n",
       "      <td>4.266719</td>\n",
       "      <td>0.061577</td>\n",
       "      <td>22.090468</td>\n",
       "      <td>810.715943</td>\n",
       "      <td>28.473074</td>\n",
       "      <td>-1.323721</td>\n",
       "    </tr>\n",
       "    <tr>\n",
       "      <td>13</td>\n",
       "      <td>4.218400</td>\n",
       "      <td>4.263422</td>\n",
       "      <td>0.065162</td>\n",
       "      <td>21.544918</td>\n",
       "      <td>784.987769</td>\n",
       "      <td>28.017633</td>\n",
       "      <td>-1.249978</td>\n",
       "    </tr>\n",
       "    <tr>\n",
       "      <td>14</td>\n",
       "      <td>4.203100</td>\n",
       "      <td>4.260230</td>\n",
       "      <td>0.068958</td>\n",
       "      <td>20.948334</td>\n",
       "      <td>755.777942</td>\n",
       "      <td>27.491416</td>\n",
       "      <td>-1.166255</td>\n",
       "    </tr>\n",
       "    <tr>\n",
       "      <td>15</td>\n",
       "      <td>4.203100</td>\n",
       "      <td>4.257097</td>\n",
       "      <td>0.073809</td>\n",
       "      <td>20.393083</td>\n",
       "      <td>729.482075</td>\n",
       "      <td>27.008926</td>\n",
       "      <td>-1.090884</td>\n",
       "    </tr>\n",
       "    <tr>\n",
       "      <td>16</td>\n",
       "      <td>4.188900</td>\n",
       "      <td>4.254065</td>\n",
       "      <td>0.081400</td>\n",
       "      <td>19.728174</td>\n",
       "      <td>703.699494</td>\n",
       "      <td>26.527335</td>\n",
       "      <td>-1.016984</td>\n",
       "    </tr>\n",
       "    <tr>\n",
       "      <td>17</td>\n",
       "      <td>4.177000</td>\n",
       "      <td>4.251187</td>\n",
       "      <td>0.084353</td>\n",
       "      <td>19.228174</td>\n",
       "      <td>682.309152</td>\n",
       "      <td>26.121048</td>\n",
       "      <td>-0.955674</td>\n",
       "    </tr>\n",
       "    <tr>\n",
       "      <td>18</td>\n",
       "      <td>4.177000</td>\n",
       "      <td>4.248363</td>\n",
       "      <td>0.088781</td>\n",
       "      <td>18.711936</td>\n",
       "      <td>659.339519</td>\n",
       "      <td>25.677607</td>\n",
       "      <td>-0.889837</td>\n",
       "    </tr>\n",
       "    <tr>\n",
       "      <td>19</td>\n",
       "      <td>4.165000</td>\n",
       "      <td>4.245580</td>\n",
       "      <td>0.094475</td>\n",
       "      <td>18.091312</td>\n",
       "      <td>633.531210</td>\n",
       "      <td>25.170046</td>\n",
       "      <td>-0.815864</td>\n",
       "    </tr>\n",
       "    <tr>\n",
       "      <td>20</td>\n",
       "      <td>4.165000</td>\n",
       "      <td>4.242929</td>\n",
       "      <td>0.099114</td>\n",
       "      <td>17.551877</td>\n",
       "      <td>609.158372</td>\n",
       "      <td>24.681134</td>\n",
       "      <td>-0.746005</td>\n",
       "    </tr>\n",
       "    <tr>\n",
       "      <td>21</td>\n",
       "      <td>4.152500</td>\n",
       "      <td>4.240333</td>\n",
       "      <td>0.102699</td>\n",
       "      <td>17.112611</td>\n",
       "      <td>590.932096</td>\n",
       "      <td>24.309095</td>\n",
       "      <td>-0.693764</td>\n",
       "    </tr>\n",
       "    <tr>\n",
       "      <td>22</td>\n",
       "      <td>4.144400</td>\n",
       "      <td>4.237759</td>\n",
       "      <td>0.106073</td>\n",
       "      <td>16.805989</td>\n",
       "      <td>577.217208</td>\n",
       "      <td>24.025345</td>\n",
       "      <td>-0.654453</td>\n",
       "    </tr>\n",
       "    <tr>\n",
       "      <td>23</td>\n",
       "      <td>4.144400</td>\n",
       "      <td>4.235318</td>\n",
       "      <td>0.111345</td>\n",
       "      <td>16.424083</td>\n",
       "      <td>560.580557</td>\n",
       "      <td>23.676582</td>\n",
       "      <td>-0.606769</td>\n",
       "    </tr>\n",
       "    <tr>\n",
       "      <td>24</td>\n",
       "      <td>4.134500</td>\n",
       "      <td>4.232948</td>\n",
       "      <td>0.115352</td>\n",
       "      <td>16.100590</td>\n",
       "      <td>547.076128</td>\n",
       "      <td>23.389659</td>\n",
       "      <td>-0.568061</td>\n",
       "    </tr>\n",
       "    <tr>\n",
       "      <td>25</td>\n",
       "      <td>4.134500</td>\n",
       "      <td>4.230699</td>\n",
       "      <td>0.117250</td>\n",
       "      <td>15.840784</td>\n",
       "      <td>537.308098</td>\n",
       "      <td>23.179907</td>\n",
       "      <td>-0.540064</td>\n",
       "    </tr>\n",
       "    <tr>\n",
       "      <td>26</td>\n",
       "      <td>4.128100</td>\n",
       "      <td>4.228550</td>\n",
       "      <td>0.121468</td>\n",
       "      <td>15.493674</td>\n",
       "      <td>520.772037</td>\n",
       "      <td>22.820430</td>\n",
       "      <td>-0.492667</td>\n",
       "    </tr>\n",
       "    <tr>\n",
       "      <td>27</td>\n",
       "      <td>4.120500</td>\n",
       "      <td>4.226397</td>\n",
       "      <td>0.123787</td>\n",
       "      <td>15.257697</td>\n",
       "      <td>510.056516</td>\n",
       "      <td>22.584431</td>\n",
       "      <td>-0.461954</td>\n",
       "    </tr>\n",
       "    <tr>\n",
       "      <td>28</td>\n",
       "      <td>4.120500</td>\n",
       "      <td>4.224378</td>\n",
       "      <td>0.126107</td>\n",
       "      <td>14.886124</td>\n",
       "      <td>491.484606</td>\n",
       "      <td>22.169452</td>\n",
       "      <td>-0.408722</td>\n",
       "    </tr>\n",
       "    <tr>\n",
       "      <td>29</td>\n",
       "      <td>4.111900</td>\n",
       "      <td>4.222448</td>\n",
       "      <td>0.128427</td>\n",
       "      <td>14.690215</td>\n",
       "      <td>482.214045</td>\n",
       "      <td>21.959373</td>\n",
       "      <td>-0.382150</td>\n",
       "    </tr>\n",
       "    <tr>\n",
       "      <td>30</td>\n",
       "      <td>4.111900</td>\n",
       "      <td>4.220613</td>\n",
       "      <td>0.131168</td>\n",
       "      <td>14.494306</td>\n",
       "      <td>474.668916</td>\n",
       "      <td>21.786898</td>\n",
       "      <td>-0.360524</td>\n",
       "    </tr>\n",
       "    <tr>\n",
       "      <td>31</td>\n",
       "      <td>4.107100</td>\n",
       "      <td>4.218891</td>\n",
       "      <td>0.133277</td>\n",
       "      <td>14.327288</td>\n",
       "      <td>467.153943</td>\n",
       "      <td>21.613744</td>\n",
       "      <td>-0.338984</td>\n",
       "    </tr>\n",
       "    <tr>\n",
       "      <td>32</td>\n",
       "      <td>4.101400</td>\n",
       "      <td>4.217224</td>\n",
       "      <td>0.134332</td>\n",
       "      <td>14.214677</td>\n",
       "      <td>462.224378</td>\n",
       "      <td>21.499404</td>\n",
       "      <td>-0.324854</td>\n",
       "    </tr>\n",
       "    <tr>\n",
       "      <td>33</td>\n",
       "      <td>4.101400</td>\n",
       "      <td>4.215613</td>\n",
       "      <td>0.135175</td>\n",
       "      <td>14.040911</td>\n",
       "      <td>453.822438</td>\n",
       "      <td>21.303109</td>\n",
       "      <td>-0.300772</td>\n",
       "    </tr>\n",
       "    <tr>\n",
       "      <td>34</td>\n",
       "      <td>4.097000</td>\n",
       "      <td>4.214169</td>\n",
       "      <td>0.136019</td>\n",
       "      <td>13.916280</td>\n",
       "      <td>447.502109</td>\n",
       "      <td>21.154246</td>\n",
       "      <td>-0.282657</td>\n",
       "    </tr>\n",
       "    <tr>\n",
       "      <td>35</td>\n",
       "      <td>4.097000</td>\n",
       "      <td>4.212779</td>\n",
       "      <td>0.136229</td>\n",
       "      <td>13.796499</td>\n",
       "      <td>441.490299</td>\n",
       "      <td>21.011671</td>\n",
       "      <td>-0.265425</td>\n",
       "    </tr>\n",
       "    <tr>\n",
       "      <td>36</td>\n",
       "      <td>4.092800</td>\n",
       "      <td>4.211521</td>\n",
       "      <td>0.136651</td>\n",
       "      <td>13.714677</td>\n",
       "      <td>437.482708</td>\n",
       "      <td>20.916087</td>\n",
       "      <td>-0.253938</td>\n",
       "    </tr>\n",
       "    <tr>\n",
       "      <td>37</td>\n",
       "      <td>4.092800</td>\n",
       "      <td>4.210346</td>\n",
       "      <td>0.137284</td>\n",
       "      <td>13.655631</td>\n",
       "      <td>434.612611</td>\n",
       "      <td>20.847365</td>\n",
       "      <td>-0.245712</td>\n",
       "    </tr>\n",
       "    <tr>\n",
       "      <td>38</td>\n",
       "      <td>4.089800</td>\n",
       "      <td>4.209260</td>\n",
       "      <td>0.137495</td>\n",
       "      <td>13.628849</td>\n",
       "      <td>433.563897</td>\n",
       "      <td>20.822197</td>\n",
       "      <td>-0.242706</td>\n",
       "    </tr>\n",
       "    <tr>\n",
       "      <td>39</td>\n",
       "      <td>4.085300</td>\n",
       "      <td>4.208180</td>\n",
       "      <td>0.137916</td>\n",
       "      <td>13.514973</td>\n",
       "      <td>427.964994</td>\n",
       "      <td>20.687315</td>\n",
       "      <td>-0.226658</td>\n",
       "    </tr>\n",
       "    <tr>\n",
       "      <td>40</td>\n",
       "      <td>4.085300</td>\n",
       "      <td>4.207202</td>\n",
       "      <td>0.138549</td>\n",
       "      <td>13.434627</td>\n",
       "      <td>423.082033</td>\n",
       "      <td>20.568958</td>\n",
       "      <td>-0.212662</td>\n",
       "    </tr>\n",
       "    <tr>\n",
       "      <td>41</td>\n",
       "      <td>4.084000</td>\n",
       "      <td>4.206377</td>\n",
       "      <td>0.139182</td>\n",
       "      <td>13.364403</td>\n",
       "      <td>418.980177</td>\n",
       "      <td>20.469005</td>\n",
       "      <td>-0.200905</td>\n",
       "    </tr>\n",
       "    <tr>\n",
       "      <td>42</td>\n",
       "      <td>4.084000</td>\n",
       "      <td>4.205631</td>\n",
       "      <td>0.140025</td>\n",
       "      <td>13.287642</td>\n",
       "      <td>415.646141</td>\n",
       "      <td>20.387402</td>\n",
       "      <td>-0.191349</td>\n",
       "    </tr>\n",
       "    <tr>\n",
       "      <td>43</td>\n",
       "      <td>4.080500</td>\n",
       "      <td>4.204974</td>\n",
       "      <td>0.139814</td>\n",
       "      <td>13.270772</td>\n",
       "      <td>414.191902</td>\n",
       "      <td>20.351705</td>\n",
       "      <td>-0.187181</td>\n",
       "    </tr>\n",
       "    <tr>\n",
       "      <td>44</td>\n",
       "      <td>4.077800</td>\n",
       "      <td>4.204415</td>\n",
       "      <td>0.140025</td>\n",
       "      <td>13.260439</td>\n",
       "      <td>413.796921</td>\n",
       "      <td>20.341999</td>\n",
       "      <td>-0.186049</td>\n",
       "    </tr>\n",
       "    <tr>\n",
       "      <td>45</td>\n",
       "      <td>4.077800</td>\n",
       "      <td>4.203952</td>\n",
       "      <td>0.140236</td>\n",
       "      <td>13.232181</td>\n",
       "      <td>412.299241</td>\n",
       "      <td>20.305153</td>\n",
       "      <td>-0.181756</td>\n",
       "    </tr>\n",
       "    <tr>\n",
       "      <td>46</td>\n",
       "      <td>4.079500</td>\n",
       "      <td>4.203593</td>\n",
       "      <td>0.140447</td>\n",
       "      <td>13.225643</td>\n",
       "      <td>411.636440</td>\n",
       "      <td>20.288826</td>\n",
       "      <td>-0.179856</td>\n",
       "    </tr>\n",
       "    <tr>\n",
       "      <td>47</td>\n",
       "      <td>4.079500</td>\n",
       "      <td>4.203314</td>\n",
       "      <td>0.141080</td>\n",
       "      <td>13.199705</td>\n",
       "      <td>411.041965</td>\n",
       "      <td>20.274170</td>\n",
       "      <td>-0.178152</td>\n",
       "    </tr>\n",
       "    <tr>\n",
       "      <td>48</td>\n",
       "      <td>4.075700</td>\n",
       "      <td>4.203152</td>\n",
       "      <td>0.141080</td>\n",
       "      <td>13.181147</td>\n",
       "      <td>409.776677</td>\n",
       "      <td>20.242941</td>\n",
       "      <td>-0.174526</td>\n",
       "    </tr>\n",
       "    <tr>\n",
       "      <td>49</td>\n",
       "      <td>4.076700</td>\n",
       "      <td>4.203075</td>\n",
       "      <td>0.141080</td>\n",
       "      <td>13.168283</td>\n",
       "      <td>408.848587</td>\n",
       "      <td>20.220005</td>\n",
       "      <td>-0.171866</td>\n",
       "    </tr>\n",
       "    <tr>\n",
       "      <td>50</td>\n",
       "      <td>4.076700</td>\n",
       "      <td>4.203061</td>\n",
       "      <td>0.141080</td>\n",
       "      <td>13.166596</td>\n",
       "      <td>408.805567</td>\n",
       "      <td>20.218941</td>\n",
       "      <td>-0.171742</td>\n",
       "    </tr>\n",
       "  </tbody>\n",
       "</table><p>"
      ],
      "text/plain": [
       "<IPython.core.display.HTML object>"
      ]
     },
     "metadata": {},
     "output_type": "display_data"
    },
    {
     "data": {
      "text/plain": [
       "TrainOutput(global_step=14850, training_loss=4.150571075336701, metrics={'train_runtime': 26302.8126, 'train_samples_per_second': 36.053, 'train_steps_per_second': 0.565, 'total_flos': 7.353307501582049e+19, 'train_loss': 4.150571075336701, 'epoch': 50.0})"
      ]
     },
     "execution_count": 20,
     "metadata": {},
     "output_type": "execute_result"
    }
   ],
   "source": [
    "# Start training the model using the trainer object. \n",
    "trainer.train() "
   ]
  },
  {
   "cell_type": "code",
   "execution_count": 21,
   "metadata": {
    "execution": {
     "iopub.execute_input": "2025-01-20T01:39:58.639381Z",
     "iopub.status.busy": "2025-01-20T01:39:58.639008Z",
     "iopub.status.idle": "2025-01-20T01:40:46.321917Z",
     "shell.execute_reply": "2025-01-20T01:40:46.321198Z",
     "shell.execute_reply.started": "2025-01-20T01:39:58.639345Z"
    },
    "trusted": true
   },
   "outputs": [
    {
     "data": {
      "text/html": [
       "\n",
       "    <div>\n",
       "      \n",
       "      <progress value='150' max='75' style='width:300px; height:20px; vertical-align: middle;'></progress>\n",
       "      [75/75 09:23]\n",
       "    </div>\n",
       "    "
      ],
      "text/plain": [
       "<IPython.core.display.HTML object>"
      ]
     },
     "metadata": {},
     "output_type": "display_data"
    },
    {
     "data": {
      "text/plain": [
       "{'eval_loss': 4.203061103820801,\n",
       " 'eval_accuracy': 0.14107971320118093,\n",
       " 'eval_MAE': 13.166596372838464,\n",
       " 'eval_MSE': 408.8055672711936,\n",
       " 'eval_RMSE': 20.218940804878816,\n",
       " 'eval_R2': -0.17174225010771327,\n",
       " 'eval_runtime': 47.6763,\n",
       " 'eval_samples_per_second': 99.462,\n",
       " 'eval_steps_per_second': 1.573,\n",
       " 'epoch': 50.0}"
      ]
     },
     "execution_count": 21,
     "metadata": {},
     "output_type": "execute_result"
    }
   ],
   "source": [
    "trainer.evaluate() "
   ]
  },
  {
   "cell_type": "code",
   "execution_count": null,
   "metadata": {
    "execution": {
     "execution_failed": "2025-01-20T02:28:32.020Z"
    },
    "trusted": true
   },
   "outputs": [],
   "source": [
    "# Use the trained 'trainer' to make predictions on the 'test_data'. \n",
    "outputs = trainer.predict(test_data) \n",
    "\n",
    "# Print the metrics obtained from the prediction outputs. \n",
    "print(outputs.metrics) \n",
    "for i in outputs.metrics:\n",
    "    print(i, outputs.metrics[i]) "
   ]
  },
  {
   "cell_type": "code",
   "execution_count": null,
   "metadata": {
    "execution": {
     "execution_failed": "2025-01-20T02:28:32.020Z"
    },
    "trusted": true
   },
   "outputs": [],
   "source": [
    "# Extract the true labels from the model outputs\n",
    "y_true = outputs.label_ids\n",
    "\n",
    "# Predict the labels by selecting the class with the highest probability\n",
    "y_pred = outputs.predictions.argmax(1)\n",
    "\n",
    "# Define a function to plot a confusion matrix\n",
    "def plot_confusion_matrix(cm, classes, title='Confusion Matrix', cmap=plt.cm.Blues, figsize=(8, 6)):\n",
    "    \"\"\"\n",
    "    This function plots a confusion matrix.\n",
    "\n",
    "    Parameters:\n",
    "        cm (array-like): Confusion matrix as returned by sklearn.metrics.confusion_matrix.\n",
    "        classes (list): List of class names, e.g., ['Class 0', 'Class 1'].\n",
    "        title (str): Title for the plot.\n",
    "        cmap (matplotlib colormap): Colormap for the plot.\n",
    "    \"\"\"\n",
    "    # Create a figure with a specified size\n",
    "    plt.figure(figsize=figsize)\n",
    "    \n",
    "    # Display the confusion matrix as an image with a colormap\n",
    "    plt.imshow(cm, interpolation='nearest', cmap=cmap)\n",
    "    plt.title(title)\n",
    "    plt.colorbar()\n",
    "\n",
    "    # Define tick marks and labels for the classes on the axes\n",
    "    tick_marks = np.arange(len(classes))\n",
    "    plt.xticks(tick_marks, classes, rotation=90)\n",
    "    plt.yticks(tick_marks, classes)\n",
    "\n",
    "    fmt = '.0f'\n",
    "    # Add text annotations to the plot indicating the values in the cells\n",
    "    thresh = cm.max() / 2.0\n",
    "    for i, j in itertools.product(range(cm.shape[0]), range(cm.shape[1])):\n",
    "        plt.text(j, i, format(cm[i, j], fmt), horizontalalignment=\"center\", color=\"white\" if cm[i, j] > thresh else \"black\")\n",
    "\n",
    "    # Label the axes\n",
    "    plt.ylabel('True label')\n",
    "    plt.xlabel('Predicted label')\n",
    "\n",
    "    # Ensure the plot layout is tight\n",
    "    plt.tight_layout()\n",
    "    # Display the plot\n",
    "    plt.show()\n",
    "\n",
    "# Calculate accuracy and F1 score\n",
    "accuracy = accuracy_score(y_true, y_pred)\n",
    "f1 = f1_score(y_true, y_pred, average='macro')\n",
    "\n",
    "# Display accuracy and F1 score\n",
    "print(f\"Accuracy: {accuracy:.4f}\")\n",
    "print(f\"F1 Score: {f1:.4f}\")\n",
    "\n",
    "# Get the confusion matrix if there are a small number of labels\n",
    "if len(labels_list) <= 250:\n",
    "    # Compute the confusion matrix\n",
    "    cm = confusion_matrix(y_true, y_pred)\n",
    "\n",
    "    # Plot the confusion matrix using the defined function\n",
    "    plot_confusion_matrix(cm, labels_list, figsize=(12, 10))\n",
    "    \n",
    "# Finally, display classification report\n",
    "print()\n",
    "print(\"Classification report:\")\n",
    "print()\n",
    "print(classification_report(y_true, y_pred, target_names=labels_list, digits=4)) "
   ]
  },
  {
   "cell_type": "code",
   "execution_count": null,
   "metadata": {
    "execution": {
     "execution_failed": "2025-01-20T02:28:32.020Z"
    },
    "trusted": true
   },
   "outputs": [],
   "source": [
    "# Save the trained model: This line of code is responsible for saving the model\n",
    "# that has been trained using the trainer object. It will serialize the model\n",
    "# and its associated weights, making it possible to reload and use the model\n",
    "# in the future without the need to retrain it.\n",
    "trainer.save_model()"
   ]
  },
  {
   "cell_type": "code",
   "execution_count": null,
   "metadata": {
    "execution": {
     "execution_failed": "2025-01-20T02:28:32.020Z"
    },
    "trusted": true
   },
   "outputs": [],
   "source": [
    "# Import the 'pipeline' function from the 'transformers' library.\n",
    "from transformers import pipeline\n",
    "\n",
    "# Create a pipeline for image classification tasks. \n",
    "# You need to specify the 'model_name' and the 'device' to use for inference.\n",
    "# - 'model_name': The name of the pre-trained model to be used for image classification.\n",
    "# - 'device': Specifies the device to use for running the model (0 for GPU, -1 for CPU).\n",
    "pipe = pipeline('age-recognition', model=model_name, device=0)"
   ]
  },
  {
   "cell_type": "code",
   "execution_count": null,
   "metadata": {
    "execution": {
     "execution_failed": "2025-01-20T02:28:32.020Z"
    },
    "trusted": true
   },
   "outputs": [],
   "source": [
    "!zip /kaggle/working/age_recognition.zip -r /kaggle/working/age_recognition "
   ]
  },
  {
   "cell_type": "code",
   "execution_count": null,
   "metadata": {
    "trusted": true
   },
   "outputs": [],
   "source": []
  },
  {
   "cell_type": "code",
   "execution_count": null,
   "metadata": {
    "trusted": true
   },
   "outputs": [],
   "source": []
  }
 ],
 "metadata": {
  "kaggle": {
   "accelerator": "nvidiaTeslaT4",
   "dataSources": [
    {
     "datasetId": 44109,
     "sourceId": 78156,
     "sourceType": "datasetVersion"
    }
   ],
   "dockerImageVersionId": 30840,
   "isGpuEnabled": true,
   "isInternetEnabled": true,
   "language": "python",
   "sourceType": "notebook"
  },
  "kernelspec": {
   "display_name": "Python 3",
   "language": "python",
   "name": "python3"
  },
  "language_info": {
   "codemirror_mode": {
    "name": "ipython",
    "version": 3
   },
   "file_extension": ".py",
   "mimetype": "text/x-python",
   "name": "python",
   "nbconvert_exporter": "python",
   "pygments_lexer": "ipython3",
   "version": "3.10.12"
  }
 },
 "nbformat": 4,
 "nbformat_minor": 4
}
