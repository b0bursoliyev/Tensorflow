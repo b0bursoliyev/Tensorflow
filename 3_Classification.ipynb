{
 "cells": [
  {
   "cell_type": "code",
   "execution_count": 1,
   "metadata": {},
   "outputs": [],
   "source": [
    "import tensorflow as tf\n",
    "from tensorflow import keras\n",
    "import numpy as np\n",
    "import matplotlib.pyplot as plt\n",
    "import cv2\n",
    "import glob"
   ]
  },
  {
   "cell_type": "code",
   "execution_count": 2,
   "metadata": {},
   "outputs": [],
   "source": [
    "def datasets(PATH):\n",
    "    labels = ['female','male']\n",
    "    data = []\n",
    "    for i in range(2):\n",
    "        PATH_new = PATH + labels[i] + \"\\\\*\"\n",
    "        print(PATH)\n",
    "        for rasm in glob.glob(PATH_new):\n",
    "            rasm = cv2.imread(rasm)\n",
    "            rasm = cv2.resize(rasm,(96,96))\n",
    "            data.append((rasm,i))\n",
    "    return data"
   ]
  },
  {
   "cell_type": "code",
   "execution_count": 5,
   "metadata": {},
   "outputs": [],
   "source": [
    "train_dir = 'C:/Users/Lucas/Desktop/ML_data/Gender/Train/'\n",
    "test_dir = 'C:/Users/Lucas/Desktop/ML_data/Gender/Test/'"
   ]
  },
  {
   "cell_type": "code",
   "execution_count": 6,
   "metadata": {},
   "outputs": [
    {
     "name": "stdout",
     "output_type": "stream",
     "text": [
      "C:/Users/Lucas/Desktop/ML_data/Gender/Train/\n",
      "C:/Users/Lucas/Desktop/ML_data/Gender/Train/\n",
      "C:/Users/Lucas/Desktop/ML_data/Gender/Test/\n",
      "C:/Users/Lucas/Desktop/ML_data/Gender/Test/\n"
     ]
    }
   ],
   "source": [
    "train_dataset = datasets(train_dir)\n",
    "test_dataset = datasets(test_dir)"
   ]
  },
  {
   "cell_type": "code",
   "execution_count": 7,
   "metadata": {},
   "outputs": [
    {
     "data": {
      "text/plain": [
       "list"
      ]
     },
     "execution_count": 7,
     "metadata": {},
     "output_type": "execute_result"
    }
   ],
   "source": [
    "type(train_dataset)"
   ]
  },
  {
   "cell_type": "code",
   "execution_count": 8,
   "metadata": {},
   "outputs": [],
   "source": [
    "x_train,y_train = np.array([i[0] for i in train_dataset],dtype=np.uint8),np.array([i[1] for i in train_dataset],dtype=np.uint8)"
   ]
  },
  {
   "cell_type": "code",
   "execution_count": 9,
   "metadata": {},
   "outputs": [
    {
     "name": "stdout",
     "output_type": "stream",
     "text": [
      "(47009, 96, 96, 3)\n",
      "(47009,)\n"
     ]
    }
   ],
   "source": [
    "print(x_train.shape)\n",
    "print(y_train.shape)"
   ]
  },
  {
   "cell_type": "code",
   "execution_count": 10,
   "metadata": {},
   "outputs": [],
   "source": [
    "x_test,y_test = np.array([i[0] for i in test_dataset],dtype=np.uint8),np.array([i[1] for i in test_dataset],dtype=np.uint8)"
   ]
  },
  {
   "cell_type": "code",
   "execution_count": 11,
   "metadata": {},
   "outputs": [
    {
     "name": "stdout",
     "output_type": "stream",
     "text": [
      "(11649, 96, 96, 3)\n",
      "(11649,)\n"
     ]
    }
   ],
   "source": [
    "print(x_test.shape)\n",
    "print(y_test.shape)"
   ]
  },
  {
   "cell_type": "code",
   "execution_count": 13,
   "metadata": {},
   "outputs": [
    {
     "name": "stdout",
     "output_type": "stream",
     "text": [
      "----TRAIN dataset----\n",
      "Every humans = 47009\n",
      "Women's img = 23243\n",
      "Men's img = 23766\n"
     ]
    }
   ],
   "source": [
    "print(\"----TRAIN dataset----\")\n",
    "print(\"Every humans =\",len(train_dataset))\n",
    "print(\"Women's img =\",len([i for i in train_dataset if i[1]==0]))\n",
    "print(\"Men's img =\",len([i for i in train_dataset if i[1]==1]))"
   ]
  },
  {
   "cell_type": "code",
   "execution_count": 14,
   "metadata": {},
   "outputs": [
    {
     "name": "stdout",
     "output_type": "stream",
     "text": [
      "----TEST dataset----\n",
      "Every humans = 11649\n",
      "Women's img = 5841\n",
      "Men's img = 5808\n"
     ]
    }
   ],
   "source": [
    "print(\"----TEST dataset----\")\n",
    "print(\"Every humans =\",len(test_dataset))\n",
    "print(\"Women's img =\",len([i for i in test_dataset if i[1]==0]))\n",
    "print(\"Men's img =\",len([i for i in test_dataset if i[1]==1]))"
   ]
  },
  {
   "cell_type": "code",
   "execution_count": 15,
   "metadata": {},
   "outputs": [],
   "source": [
    "model = keras.Sequential([\n",
    "    keras.layers.Conv2D(32,(3,3),input_shape=(96,96,3),activation='relu'),\n",
    "    keras.layers.MaxPooling2D((2,2)),\n",
    "    keras.layers.Conv2D(64,(3,3),activation='relu'),\n",
    "    keras.layers.MaxPooling2D((2,2)),\n",
    "    keras.layers.Conv2D(128,(3,3),activation='relu'),\n",
    "    keras.layers.MaxPooling2D((2,2)),\n",
    "    keras.layers.Flatten(),\n",
    "    keras.layers.Dense(64,activation='relu'),\n",
    "    keras.layers.Dense(32,activation='relu'),\n",
    "    keras.layers.Dense(1,activation='sigmoid')\n",
    "])"
   ]
  },
  {
   "cell_type": "code",
   "execution_count": 16,
   "metadata": {},
   "outputs": [
    {
     "name": "stdout",
     "output_type": "stream",
     "text": [
      "Epoch 1/5\n",
      "1470/1470 [==============================] - 544s 367ms/step - loss: 0.3151 - accuracy: 0.8980\n",
      "Epoch 2/5\n",
      "1470/1470 [==============================] - 290s 197ms/step - loss: 0.1596 - accuracy: 0.9419\n",
      "Epoch 3/5\n",
      "1470/1470 [==============================] - 287s 195ms/step - loss: 0.1421 - accuracy: 0.9471\n",
      "Epoch 4/5\n",
      "1470/1470 [==============================] - 293s 199ms/step - loss: 0.1261 - accuracy: 0.9547\n",
      "Epoch 5/5\n",
      "1470/1470 [==============================] - 281s 191ms/step - loss: 0.1191 - accuracy: 0.9571\n"
     ]
    },
    {
     "data": {
      "text/plain": [
       "<keras.src.callbacks.History at 0x1b815851ad0>"
      ]
     },
     "execution_count": 16,
     "metadata": {},
     "output_type": "execute_result"
    }
   ],
   "source": [
    "model.compile(optimizer = 'adam',loss='binary_crossentropy',metrics=['accuracy'])\n",
    "model.fit(x_train,y_train,epochs=5)"
   ]
  },
  {
   "cell_type": "code",
   "execution_count": 17,
   "metadata": {},
   "outputs": [
    {
     "name": "stdout",
     "output_type": "stream",
     "text": [
      "365/365 [==============================] - 19s 50ms/step - loss: 0.1144 - accuracy: 0.9584\n"
     ]
    },
    {
     "data": {
      "text/plain": [
       "[0.1144256442785263, 0.9583654999732971]"
      ]
     },
     "execution_count": 17,
     "metadata": {},
     "output_type": "execute_result"
    }
   ],
   "source": [
    "model.evaluate(x_test,y_test)"
   ]
  },
  {
   "cell_type": "code",
   "execution_count": 18,
   "metadata": {},
   "outputs": [
    {
     "name": "stdout",
     "output_type": "stream",
     "text": [
      "1/1 [==============================] - 0s 294ms/step\n",
      "[[0.9999401]]\n"
     ]
    },
    {
     "data": {
      "text/plain": [
       "<matplotlib.image.AxesImage at 0x1b9034caa90>"
      ]
     },
     "execution_count": 18,
     "metadata": {},
     "output_type": "execute_result"
    },
    {
     "data": {
      "image/png": "[encoded data removed]",
      "text/plain": [
       "<Figure size 640x480 with 1 Axes>"
      ]
     },
     "metadata": {},
     "output_type": "display_data"
    }
   ],
   "source": [
    "i = 9000\n",
    "rasm = np.expand_dims(x_test[i],0)\n",
    "print(model.predict(rasm))\n",
    "plt.imshow(x_test[i])"
   ]
  },
  {
   "cell_type": "markdown",
   "metadata": {},
   "source": [
    "One-Hot encoding"
   ]
  },
  {
   "cell_type": "code",
   "execution_count": 19,
   "metadata": {},
   "outputs": [],
   "source": [
    "def datasets(PATH):\n",
    "    labels = ['female','male']\n",
    "    data = []\n",
    "    label = []\n",
    "    onehot = [[1,0],[0,1]]\n",
    "    for i in range(2):\n",
    "        PATH_new = PATH + labels[i] + \"\\\\*\"\n",
    "        print(PATH)\n",
    "        for rasm in glob.glob(PATH_new):\n",
    "            rasm = cv2.imread(rasm)\n",
    "            rasm = cv2.resize(rasm,(96,96))\n",
    "            data.append(rasm)\n",
    "            label.append(onehot[i])\n",
    "    return np.array(data,dtype=np.uint8),np.array(label,dtype=np.uint8)"
   ]
  },
  {
   "cell_type": "code",
   "execution_count": 20,
   "metadata": {},
   "outputs": [
    {
     "name": "stdout",
     "output_type": "stream",
     "text": [
      "C:/Users/Lucas/Desktop/ML_data/Gender/Train/\n",
      "C:/Users/Lucas/Desktop/ML_data/Gender/Train/\n"
     ]
    }
   ],
   "source": [
    "x_train,y_train = datasets(train_dir)"
   ]
  },
  {
   "cell_type": "code",
   "execution_count": 21,
   "metadata": {},
   "outputs": [
    {
     "data": {
      "text/plain": [
       "(47009, 96, 96, 3)"
      ]
     },
     "execution_count": 21,
     "metadata": {},
     "output_type": "execute_result"
    }
   ],
   "source": [
    "x_train.shape"
   ]
  },
  {
   "cell_type": "code",
   "execution_count": 22,
   "metadata": {},
   "outputs": [
    {
     "data": {
      "text/plain": [
       "(47009, 2)"
      ]
     },
     "execution_count": 22,
     "metadata": {},
     "output_type": "execute_result"
    }
   ],
   "source": [
    "y_train.shape"
   ]
  },
  {
   "cell_type": "code",
   "execution_count": 23,
   "metadata": {},
   "outputs": [
    {
     "name": "stdout",
     "output_type": "stream",
     "text": [
      "C:/Users/Lucas/Desktop/ML_data/Gender/Test/\n",
      "C:/Users/Lucas/Desktop/ML_data/Gender/Test/\n"
     ]
    }
   ],
   "source": [
    "x_test,y_test = datasets(test_dir)"
   ]
  },
  {
   "cell_type": "code",
   "execution_count": 24,
   "metadata": {},
   "outputs": [
    {
     "data": {
      "text/plain": [
       "(11649, 96, 96, 3)"
      ]
     },
     "execution_count": 24,
     "metadata": {},
     "output_type": "execute_result"
    }
   ],
   "source": [
    "x_test.shape"
   ]
  },
  {
   "cell_type": "code",
   "execution_count": 25,
   "metadata": {},
   "outputs": [
    {
     "data": {
      "text/plain": [
       "(11649, 2)"
      ]
     },
     "execution_count": 25,
     "metadata": {},
     "output_type": "execute_result"
    }
   ],
   "source": [
    "y_test.shape"
   ]
  },
  {
   "cell_type": "code",
   "execution_count": 26,
   "metadata": {},
   "outputs": [],
   "source": [
    "model = keras.Sequential([\n",
    "    keras.layers.Conv2D(32,(3,3),input_shape=(96,96,3),activation='relu'),\n",
    "    keras.layers.MaxPooling2D((2,2)),\n",
    "    keras.layers.Conv2D(64,(3,3),activation='relu'),\n",
    "    keras.layers.MaxPooling2D((2,2)),\n",
    "    keras.layers.Conv2D(128,(3,3),activation='relu'),\n",
    "    keras.layers.MaxPooling2D((2,2)),\n",
    "    keras.layers.Flatten(),\n",
    "    keras.layers.Dense(64,activation='relu'),\n",
    "    keras.layers.Dense(32,activation='relu'),\n",
    "    keras.layers.Dense(2,activation='softmax')\n",
    "])"
   ]
  },
  {
   "cell_type": "code",
   "execution_count": 29,
   "metadata": {},
   "outputs": [
    {
     "name": "stdout",
     "output_type": "stream",
     "text": [
      "Epoch 1/2\n",
      "1470/1470 [==============================] - 334s 226ms/step - loss: 0.1130 - accuracy: 0.9584\n",
      "Epoch 2/2\n",
      "1470/1470 [==============================] - 231s 157ms/step - loss: 0.1058 - accuracy: 0.9622\n"
     ]
    },
    {
     "data": {
      "text/plain": [
       "<keras.src.callbacks.History at 0x1b8b75ded50>"
      ]
     },
     "execution_count": 29,
     "metadata": {},
     "output_type": "execute_result"
    }
   ],
   "source": [
    "model.compile(optimizer = 'adam',loss='binary_crossentropy',metrics=['accuracy'])\n",
    "model.fit(x_train,y_train,epochs=2)"
   ]
  },
  {
   "cell_type": "code",
   "execution_count": 30,
   "metadata": {},
   "outputs": [
    {
     "name": "stdout",
     "output_type": "stream",
     "text": [
      "365/365 [==============================] - 13s 34ms/step - loss: 0.1271 - accuracy: 0.9577\n"
     ]
    },
    {
     "data": {
      "text/plain": [
       "[0.12706486880779266, 0.9576787948608398]"
      ]
     },
     "execution_count": 30,
     "metadata": {},
     "output_type": "execute_result"
    }
   ],
   "source": [
    "model.evaluate(x_test,y_test)"
   ]
  },
  {
   "cell_type": "code",
   "execution_count": 31,
   "metadata": {},
   "outputs": [
    {
     "name": "stdout",
     "output_type": "stream",
     "text": [
      "1/1 [==============================] - 0s 70ms/step\n",
      "1\n",
      "1/1 [==============================] - 0s 27ms/step\n",
      "[[0. 1.]]\n"
     ]
    },
    {
     "data": {
      "text/plain": [
       "<matplotlib.image.AxesImage at 0x1b9035fc590>"
      ]
     },
     "execution_count": 31,
     "metadata": {},
     "output_type": "execute_result"
    },
    {
     "data": {
      "image/png": "[encoded data removed]",
      "text/plain": [
       "<Figure size 640x480 with 1 Axes>"
      ]
     },
     "metadata": {},
     "output_type": "display_data"
    }
   ],
   "source": [
    "i = 7021\n",
    "rasm = np.expand_dims(x_test[i],0)\n",
    "print(np.argmax(model.predict(rasm)))\n",
    "print(np.around(model.predict(rasm),2))\n",
    "plt.imshow(x_test[i])"
   ]
  }
 ],
 "metadata": {
  "kernelspec": {
   "display_name": "Python 3",
   "language": "python",
   "name": "python3"
  },
  "language_info": {
   "codemirror_mode": {
    "name": "ipython",
    "version": 3
   },
   "file_extension": ".py",
   "mimetype": "text/x-python",
   "name": "python",
   "nbconvert_exporter": "python",
   "pygments_lexer": "ipython3",
   "version": "3.11.4"
  },
  "orig_nbformat": 4
 },
 "nbformat": 4,
 "nbformat_minor": 2
}
